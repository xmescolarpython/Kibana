{
 "cells": [
  {
   "cell_type": "code",
   "execution_count": null,
   "metadata": {},
   "outputs": [],
   "source": [
    "#S15 T01:Visualització interactiva amb ElasticSearch Stack"
   ]
  },
  {
   "cell_type": "code",
   "execution_count": null,
   "metadata": {},
   "outputs": [],
   "source": [
    "#Nivell 1"
   ]
  },
  {
   "cell_type": "code",
   "execution_count": null,
   "metadata": {},
   "outputs": [],
   "source": [
    "#Exercici 1"
   ]
  },
  {
   "cell_type": "code",
   "execution_count": null,
   "metadata": {},
   "outputs": [],
   "source": [
    "#Descarrega't Kibana i mostra algunes gràfiques utilitzant conjunts de dades d'Exemple."
   ]
  },
  {
   "cell_type": "code",
   "execution_count": 4,
   "metadata": {},
   "outputs": [],
   "source": [
    "#Llibreries import\n",
    "import pandas as pd\n",
    "import seaborn as sns"
   ]
  },
  {
   "cell_type": "code",
   "execution_count": 9,
   "metadata": {},
   "outputs": [],
   "source": [
    "#Carreguem el dataset '2021_ine_lloc_naixement_ccaa_i_provincies_per_sexe'- origen: Opendata BCN\n",
    "df_dades = pd.read_csv('Python/2021_ine_lloc_naixement_ccaa_i_provincies_per_sexe.csv', engine=\"python\", error_bad_lines=False, warn_bad_lines=False, sep=',')"
   ]
  },
  {
   "cell_type": "code",
   "execution_count": 10,
   "metadata": {},
   "outputs": [
    {
     "data": {
      "text/html": [
       "<div>\n",
       "<style scoped>\n",
       "    .dataframe tbody tr th:only-of-type {\n",
       "        vertical-align: middle;\n",
       "    }\n",
       "\n",
       "    .dataframe tbody tr th {\n",
       "        vertical-align: top;\n",
       "    }\n",
       "\n",
       "    .dataframe thead th {\n",
       "        text-align: right;\n",
       "    }\n",
       "</style>\n",
       "<table border=\"1\" class=\"dataframe\">\n",
       "  <thead>\n",
       "    <tr style=\"text-align: right;\">\n",
       "      <th></th>\n",
       "      <th>ï»¿\"Any\"</th>\n",
       "      <th>Codi_Districte</th>\n",
       "      <th>Nom_Districte</th>\n",
       "      <th>Codi_Barri</th>\n",
       "      <th>Nom_Barri</th>\n",
       "      <th>Sexe</th>\n",
       "      <th>CCAA</th>\n",
       "      <th>ProvÃ­ncia_naixement</th>\n",
       "      <th>Nombre</th>\n",
       "    </tr>\n",
       "  </thead>\n",
       "  <tbody>\n",
       "    <tr>\n",
       "      <th>0</th>\n",
       "      <td>2021</td>\n",
       "      <td>1</td>\n",
       "      <td>Ciutat Vella</td>\n",
       "      <td>1</td>\n",
       "      <td>el Raval</td>\n",
       "      <td>Dones</td>\n",
       "      <td>Andalusia</td>\n",
       "      <td>Almeria</td>\n",
       "      <td>47</td>\n",
       "    </tr>\n",
       "    <tr>\n",
       "      <th>1</th>\n",
       "      <td>2021</td>\n",
       "      <td>1</td>\n",
       "      <td>Ciutat Vella</td>\n",
       "      <td>2</td>\n",
       "      <td>el Barri GÃ²tic</td>\n",
       "      <td>Dones</td>\n",
       "      <td>Andalusia</td>\n",
       "      <td>Almeria</td>\n",
       "      <td>8</td>\n",
       "    </tr>\n",
       "    <tr>\n",
       "      <th>2</th>\n",
       "      <td>2021</td>\n",
       "      <td>1</td>\n",
       "      <td>Ciutat Vella</td>\n",
       "      <td>3</td>\n",
       "      <td>la Barceloneta</td>\n",
       "      <td>Dones</td>\n",
       "      <td>Andalusia</td>\n",
       "      <td>Almeria</td>\n",
       "      <td>49</td>\n",
       "    </tr>\n",
       "    <tr>\n",
       "      <th>3</th>\n",
       "      <td>2021</td>\n",
       "      <td>1</td>\n",
       "      <td>Ciutat Vella</td>\n",
       "      <td>4</td>\n",
       "      <td>Sant Pere, Santa Caterina i la Ribera</td>\n",
       "      <td>Dones</td>\n",
       "      <td>Andalusia</td>\n",
       "      <td>Almeria</td>\n",
       "      <td>23</td>\n",
       "    </tr>\n",
       "    <tr>\n",
       "      <th>4</th>\n",
       "      <td>2021</td>\n",
       "      <td>2</td>\n",
       "      <td>Eixample</td>\n",
       "      <td>5</td>\n",
       "      <td>el Fort Pienc</td>\n",
       "      <td>Dones</td>\n",
       "      <td>Andalusia</td>\n",
       "      <td>Almeria</td>\n",
       "      <td>50</td>\n",
       "    </tr>\n",
       "    <tr>\n",
       "      <th>5</th>\n",
       "      <td>2021</td>\n",
       "      <td>2</td>\n",
       "      <td>Eixample</td>\n",
       "      <td>6</td>\n",
       "      <td>la Sagrada FamÃ­lia</td>\n",
       "      <td>Dones</td>\n",
       "      <td>Andalusia</td>\n",
       "      <td>Almeria</td>\n",
       "      <td>90</td>\n",
       "    </tr>\n",
       "    <tr>\n",
       "      <th>6</th>\n",
       "      <td>2021</td>\n",
       "      <td>2</td>\n",
       "      <td>Eixample</td>\n",
       "      <td>7</td>\n",
       "      <td>la Dreta de l'Eixample</td>\n",
       "      <td>Dones</td>\n",
       "      <td>Andalusia</td>\n",
       "      <td>Almeria</td>\n",
       "      <td>47</td>\n",
       "    </tr>\n",
       "    <tr>\n",
       "      <th>7</th>\n",
       "      <td>2021</td>\n",
       "      <td>2</td>\n",
       "      <td>Eixample</td>\n",
       "      <td>8</td>\n",
       "      <td>l'Antiga Esquerra de l'Eixample</td>\n",
       "      <td>Dones</td>\n",
       "      <td>Andalusia</td>\n",
       "      <td>Almeria</td>\n",
       "      <td>54</td>\n",
       "    </tr>\n",
       "    <tr>\n",
       "      <th>8</th>\n",
       "      <td>2021</td>\n",
       "      <td>2</td>\n",
       "      <td>Eixample</td>\n",
       "      <td>9</td>\n",
       "      <td>la Nova Esquerra de l'Eixample</td>\n",
       "      <td>Dones</td>\n",
       "      <td>Andalusia</td>\n",
       "      <td>Almeria</td>\n",
       "      <td>97</td>\n",
       "    </tr>\n",
       "    <tr>\n",
       "      <th>9</th>\n",
       "      <td>2021</td>\n",
       "      <td>2</td>\n",
       "      <td>Eixample</td>\n",
       "      <td>10</td>\n",
       "      <td>Sant Antoni</td>\n",
       "      <td>Dones</td>\n",
       "      <td>Andalusia</td>\n",
       "      <td>Almeria</td>\n",
       "      <td>62</td>\n",
       "    </tr>\n",
       "  </tbody>\n",
       "</table>\n",
       "</div>"
      ],
      "text/plain": [
       "   ï»¿\"Any\"  Codi_Districte Nom_Districte  Codi_Barri  \\\n",
       "0      2021               1  Ciutat Vella           1   \n",
       "1      2021               1  Ciutat Vella           2   \n",
       "2      2021               1  Ciutat Vella           3   \n",
       "3      2021               1  Ciutat Vella           4   \n",
       "4      2021               2      Eixample           5   \n",
       "5      2021               2      Eixample           6   \n",
       "6      2021               2      Eixample           7   \n",
       "7      2021               2      Eixample           8   \n",
       "8      2021               2      Eixample           9   \n",
       "9      2021               2      Eixample          10   \n",
       "\n",
       "                               Nom_Barri   Sexe       CCAA  \\\n",
       "0                               el Raval  Dones  Andalusia   \n",
       "1                        el Barri GÃ²tic  Dones  Andalusia   \n",
       "2                         la Barceloneta  Dones  Andalusia   \n",
       "3  Sant Pere, Santa Caterina i la Ribera  Dones  Andalusia   \n",
       "4                          el Fort Pienc  Dones  Andalusia   \n",
       "5                    la Sagrada FamÃ­lia  Dones  Andalusia   \n",
       "6                 la Dreta de l'Eixample  Dones  Andalusia   \n",
       "7        l'Antiga Esquerra de l'Eixample  Dones  Andalusia   \n",
       "8         la Nova Esquerra de l'Eixample  Dones  Andalusia   \n",
       "9                            Sant Antoni  Dones  Andalusia   \n",
       "\n",
       "  ProvÃ­ncia_naixement  Nombre  \n",
       "0              Almeria      47  \n",
       "1              Almeria       8  \n",
       "2              Almeria      49  \n",
       "3              Almeria      23  \n",
       "4              Almeria      50  \n",
       "5              Almeria      90  \n",
       "6              Almeria      47  \n",
       "7              Almeria      54  \n",
       "8              Almeria      97  \n",
       "9              Almeria      62  "
      ]
     },
     "execution_count": 10,
     "metadata": {},
     "output_type": "execute_result"
    }
   ],
   "source": [
    "df_dades.head(10) #Fem un mostreig de les dades"
   ]
  },
  {
   "cell_type": "code",
   "execution_count": 13,
   "metadata": {},
   "outputs": [],
   "source": [
    "df_ccaa = df_dades['CCAA'] # dades de la columna 'CCAA'"
   ]
  },
  {
   "cell_type": "code",
   "execution_count": 14,
   "metadata": {},
   "outputs": [
    {
     "data": {
      "text/plain": [
       "0       Andalusia\n",
       "1       Andalusia\n",
       "2       Andalusia\n",
       "3       Andalusia\n",
       "4       Andalusia\n",
       "          ...    \n",
       "7733    Estranger\n",
       "7734    Estranger\n",
       "7735    Estranger\n",
       "7736    Estranger\n",
       "7737    Estranger\n",
       "Name: CCAA, Length: 7738, dtype: object"
      ]
     },
     "execution_count": 14,
     "metadata": {},
     "output_type": "execute_result"
    }
   ],
   "source": [
    "df_ccaa"
   ]
  },
  {
   "cell_type": "code",
   "execution_count": 29,
   "metadata": {},
   "outputs": [
    {
     "name": "stdout",
     "output_type": "stream",
     "text": [
      "['Andalusia', 'AragÃ³', \"Principat d'AstÃºries\", 'Illes Balears', 'CanÃ\\xa0ries', 'CantÃ\\xa0bria', 'Castella - la Manxa', 'Castella i LleÃ³', 'Catalunya', 'Comunitat Valenciana', 'Extremadura', 'GalÃ\\xadcia', 'Comunitat de Madrid', 'RegiÃ³ de MÃºrcia', 'Comunitat Foral de Navarra', 'PaÃ\\xads Basc', 'Rioja, La', 'Ceuta', 'Melilla', 'Estranger']\n"
     ]
    }
   ],
   "source": [
    "df_ccaa = list(dict.fromkeys(df_ccaa)) #filtrem i obviem els duplicats\n",
    "print(df_ccaa)"
   ]
  },
  {
   "cell_type": "code",
   "execution_count": 31,
   "metadata": {},
   "outputs": [],
   "source": [
    "df_prov = df_dades['ProvÃ­ncia_naixement']# dades de la columna 'Provincia_naixement'"
   ]
  },
  {
   "cell_type": "code",
   "execution_count": 33,
   "metadata": {},
   "outputs": [
    {
     "name": "stdout",
     "output_type": "stream",
     "text": [
      "['Almeria', 'Cadis', 'CÃ²rdova', 'Granada', 'Huelva', 'JaÃ©n', 'MÃ\\xa0laga', 'Sevilla', 'Osca', 'Terol', 'Saragossa', 'AstÃºries', 'Illes Balears', 'Palmas, Las', 'Santa Cruz de Tenerife', 'CantÃ\\xa0bria', 'Albacete', 'Ciudad Real', 'Conca', 'Guadalajara', 'Toledo', 'Ã€vila', 'Burgos', 'LleÃ³', 'PalÃ¨ncia', 'Salamanca', 'SegÃ²via', 'SÃ²ria', 'Valladolid', 'Zamora', 'Barcelona', 'Girona', 'Lleida', 'Tarragona', 'Alacant', 'CastellÃ³ de la Plana', 'ValÃ¨ncia', 'Badajoz', 'CÃ\\xa0ceres', 'Corunya, la', 'Lugo', 'Ourense', 'Pontevedra', 'Madrid', 'MÃºrcia', 'Navarra', 'Ã€laba', 'GuipÃºscoa', 'Biscaia', 'Rioja, La', 'Ceuta', 'Melilla', 'Estranger']\n"
     ]
    }
   ],
   "source": [
    "df_prov = list(dict.fromkeys(df_prov)) #filtrem i obviem els duplicats\n",
    "print(df_prov)"
   ]
  },
  {
   "cell_type": "code",
   "execution_count": 35,
   "metadata": {},
   "outputs": [],
   "source": [
    "df_barri = df_dades['Nom_Barri'] # dades de la columna 'Nom_Barri'"
   ]
  },
  {
   "cell_type": "code",
   "execution_count": 36,
   "metadata": {},
   "outputs": [
    {
     "name": "stdout",
     "output_type": "stream",
     "text": [
      "['el Raval', 'el Barri GÃ²tic', 'la Barceloneta', 'Sant Pere, Santa Caterina i la Ribera', 'el Fort Pienc', 'la Sagrada FamÃ\\xadlia', \"la Dreta de l'Eixample\", \"l'Antiga Esquerra de l'Eixample\", \"la Nova Esquerra de l'Eixample\", 'Sant Antoni', 'el Poble Sec', 'la Marina del Prat Vermell', 'la Marina de Port', 'la Font de la Guatlla', 'Hostafrancs', 'la Bordeta', 'Sants - Badal', 'Sants', 'les Corts', 'la Maternitat i Sant Ramon', 'Pedralbes', 'Vallvidrera, el Tibidabo i les Planes', 'SarriÃ\\xa0', 'les Tres Torres', 'Sant Gervasi - la Bonanova', 'Sant Gervasi - Galvany', 'el Putxet i el FarrÃ³', 'Vallcarca i els Penitents', 'el Coll', 'la Salut', 'la Vila de GrÃ\\xa0cia', \"el Camp d'en Grassot i GrÃ\\xa0cia Nova\", 'el Baix GuinardÃ³', 'Can BarÃ³', 'el GuinardÃ³', \"la Font d'en Fargues\", 'el Carmel', 'la Teixonera', 'Sant GenÃ\\xads dels Agudells', 'Montbau', \"la Vall d'Hebron\", 'la Clota', 'Horta', 'Vilapicina i la Torre Llobeta', 'Porta', 'el TurÃ³ de la Peira', 'Can Peguera', 'la Guineueta', 'Canyelles', 'les Roquetes', 'Verdun', 'la Prosperitat', 'la Trinitat Nova', 'Torre BarÃ³', 'Ciutat Meridiana', 'Vallbona', 'la Trinitat Vella', 'BarÃ³ de Viver', 'el Bon Pastor', 'Sant Andreu', 'la Sagrera', 'el CongrÃ©s i els Indians', 'Navas', \"el Camp de l'Arpa del Clot\", 'el Clot', 'el Parc i la Llacuna del Poblenou', 'la Vila OlÃ\\xadmpica del Poblenou', 'el Poblenou', 'Diagonal Mar i el Front MarÃ\\xadtim del Poblenou', 'el BesÃ²s i el Maresme', 'ProvenÃ§als del Poblenou', 'Sant MartÃ\\xad de ProvenÃ§als', 'la Verneda i la Pau']\n"
     ]
    }
   ],
   "source": [
    "df_barri = list(dict.fromkeys(df_barri)) #filtrem i obviem els duplicats\n",
    "print(df_barri)"
   ]
  },
  {
   "cell_type": "code",
   "execution_count": null,
   "metadata": {},
   "outputs": [],
   "source": [
    "df_districte = df_dades['Nom_Districte'] # dades de la columna 'Nom_Districte'"
   ]
  },
  {
   "cell_type": "code",
   "execution_count": null,
   "metadata": {},
   "outputs": [],
   "source": [
    "df_districte = list(dict.fromkeys(df_districte)) #filtrem i obviem els duplicats\n",
    "print(df_districte)"
   ]
  },
  {
   "cell_type": "code",
   "execution_count": null,
   "metadata": {},
   "outputs": [],
   "source": [
    "#Nivell 2"
   ]
  },
  {
   "cell_type": "code",
   "execution_count": null,
   "metadata": {},
   "outputs": [],
   "source": [
    "#Exercici 1"
   ]
  },
  {
   "cell_type": "code",
   "execution_count": null,
   "metadata": {},
   "outputs": [],
   "source": [
    "#Implementa un dashboard que visualitzi interactivament les dades que triïs."
   ]
  },
  {
   "cell_type": "code",
   "execution_count": null,
   "metadata": {},
   "outputs": [],
   "source": [
    "#Nivell 3"
   ]
  },
  {
   "cell_type": "code",
   "execution_count": null,
   "metadata": {},
   "outputs": [],
   "source": [
    "#Exercici 1"
   ]
  },
  {
   "cell_type": "code",
   "execution_count": null,
   "metadata": {},
   "outputs": [],
   "source": [
    "#Implementa un dashboard que generi gràfics utilitzant cadascun dels diferents tipus de gràfics que ofereix Kibana."
   ]
  },
  {
   "cell_type": "code",
   "execution_count": null,
   "metadata": {},
   "outputs": [],
   "source": [
    "#Els dashboards es troben disponibles al github."
   ]
  }
 ],
 "metadata": {
  "kernelspec": {
   "display_name": "Python 3",
   "language": "python",
   "name": "python3"
  },
  "language_info": {
   "codemirror_mode": {
    "name": "ipython",
    "version": 3
   },
   "file_extension": ".py",
   "mimetype": "text/x-python",
   "name": "python",
   "nbconvert_exporter": "python",
   "pygments_lexer": "ipython3",
   "version": "3.8.3"
  }
 },
 "nbformat": 4,
 "nbformat_minor": 4
}
